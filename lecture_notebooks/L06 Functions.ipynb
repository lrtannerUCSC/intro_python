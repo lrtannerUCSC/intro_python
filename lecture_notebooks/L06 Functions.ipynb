{
  "cells": [
    {
      "cell_type": "markdown",
      "metadata": {
        "id": "V7DbjYGNM1I6"
      },
      "source": [
        "# Lecture 6 - Functions (https://bit.ly/intro_python_06)\n",
        "\n",
        "Today:\n",
        "* Functions:\n",
        "  * Function definitions and function calls\n",
        "  * Return values are optional\n",
        "  * Docstrings\n",
        "  * Return can be used for control flow\n",
        "  * None and the default return value\n",
        "  * Return can often sub for break\n",
        "  * Functions can call other functions - the stack\n",
        "  * The stack: getting to grips with functions and control flow\n"
      ]
    },
    {
      "cell_type": "markdown",
      "metadata": {
        "id": "BleZjMKkcxW_"
      },
      "source": [
        "# Functions\n",
        "\n",
        "A function in Python is like a mini program that takes inputs, executes some code and then (potentially) returns some value. \n",
        "\n",
        "They are very convenient for organizing and structuring programs."
      ]
    },
    {
      "cell_type": "code",
      "execution_count": null,
      "metadata": {
        "colab": {
          "base_uri": "https://localhost:8080/"
        },
        "id": "MB7Bm9u8cxXA",
        "outputId": "287c43d9-7cd7-46d1-e46a-4855deda3803"
      },
      "outputs": [
        {
          "name": "stdout",
          "output_type": "stream",
          "text": [
            "enter a number: 6\n",
            "enter another number: 8\n",
            "The sum of  6  and  8  is  14\n"
          ]
        }
      ],
      "source": [
        "# A first example of defining and calling a function\n",
        "\n",
        "def add(X, Y): # A function to add together two inputs\n",
        "  Z = X + Y\n",
        "  return Z\n",
        " \n",
        "x = int(input(\"enter a number: \"))\n",
        "y = int(input(\"enter another number: \"))\n",
        "\n",
        "z = add(x, y) # The \"call\" to the function\n",
        "\n",
        "print(\"The sum of \", x, \" and \", y, \" is \", z)"
      ]
    },
    {
      "cell_type": "markdown",
      "metadata": {
        "id": "v4yhAbmt0gq2"
      },
      "source": [
        "Let's go through this carefully, step-by-step."
      ]
    },
    {
      "cell_type": "markdown",
      "metadata": {
        "id": "8AAUOqiycYyh"
      },
      "source": [
        "# Function Definitions\n",
        "\n",
        "The def keyword is used to define a function:"
      ]
    },
    {
      "cell_type": "code",
      "execution_count": null,
      "metadata": {
        "id": "IpvEEp5Mcr91"
      },
      "outputs": [],
      "source": [
        "def add(X, Y): # X and Y are the \"arguments\" to the function, aka the inputs\n",
        "  Z = X + Y # this is a statement within the function, which is executed when the \n",
        "  # function is called\n",
        "  return Z # at the end of a function we can return an \"output\" value, in this way evaluating\n",
        "  # a function is an expression because it results in a value"
      ]
    },
    {
      "cell_type": "markdown",
      "metadata": {
        "id": "tDjilI6McxXA"
      },
      "source": [
        "Functions have the following generic structure:\n",
        "  \n"
      ]
    },
    {
      "cell_type": "code",
      "execution_count": null,
      "metadata": {
        "id": "5zT0av1Vc0Eg"
      },
      "outputs": [],
      "source": [
        "def NAME(ARGUMENTS):\n",
        "    STATEMENT BLOCK # There can be arbitrary stuff in here, including control flow, etc."
      ]
    },
    {
      "cell_type": "markdown",
      "metadata": {
        "id": "T0xly29Dc5GY"
      },
      "source": [
        "* Just like with other control flow, statements in a function must be indented with respect to the def line.\n",
        "\n",
        "* The arguments are the \"inputs\" to the function\n",
        "\n",
        "* The return value defines the \"output\" of the function. We'll see not all functions have a return value.\n"
      ]
    },
    {
      "cell_type": "markdown",
      "metadata": {
        "id": "f5LHuxkC0_MQ"
      },
      "source": [
        "# Function Calls\n",
        "\n",
        "Functions are not executed without being called by a function call:"
      ]
    },
    {
      "cell_type": "code",
      "execution_count": null,
      "metadata": {
        "id": "bZOEF-XMdCyK"
      },
      "outputs": [],
      "source": [
        "def add(X, Y): # A function to add together two inputs\n",
        "  Z = X + Y\n",
        "  return Z\n",
        " \n",
        "z = add(x, y) # This is the function call - the function is not called without this"
      ]
    },
    {
      "cell_type": "markdown",
      "metadata": {
        "id": "ocSDUbjGdKHX"
      },
      "source": [
        "When you call the function execution passes the arguments into the function, which is executed and then the function returns a value to the user when it is finished.\n",
        "\n",
        "Let's go through the sequence of execution step-by-step:"
      ]
    },
    {
      "cell_type": "code",
      "execution_count": null,
      "metadata": {
        "id": "bzSPrzC8yUTr"
      },
      "outputs": [],
      "source": [
        "# Consider the way the interpreter reads this code:\n",
        "\n",
        "## 1st it reads the function definition and stores away the function\n",
        "## as a variable named \"add\". It does not call the function!\n",
        "\n",
        "## 2nd x and y are read as inputs from the user\n",
        "\n",
        "## 3rd the function \"add\" is called, causing execution to jump into the function\n",
        "## and then, ultimately, to return a value, which gets assigned to \"z\"\n",
        "\n",
        "## Finally we print the output\n",
        "\n",
        "def add(X, Y): # A function to add together two inputs\n",
        "  Z = X + Y\n",
        "  return Z\n",
        " \n",
        "x = int(input(\"enter a number: \"))\n",
        "y = int(input(\"enter another number: \"))\n",
        "\n",
        "z = add(x, y) # The call to the function\n",
        "\n",
        "print(\"The sum of \", x, \" and \", y, \" is \", z)"
      ]
    },
    {
      "cell_type": "markdown",
      "metadata": {
        "id": "J5LLv9QE1-jV"
      },
      "source": [
        "Because a function is like a mini-program, once defined you can reuse a function by calling it multiple times:"
      ]
    },
    {
      "cell_type": "code",
      "execution_count": null,
      "metadata": {
        "colab": {
          "base_uri": "https://localhost:8080/"
        },
        "id": "pKBL3X2U2JH9",
        "outputId": "7bb9a9ef-8978-4f7e-9ea5-1919bb64f42b"
      },
      "outputs": [
        {
          "name": "stdout",
          "output_type": "stream",
          "text": [
            "enter a number: 5\n",
            "enter another number: 7\n",
            "The sum of  5  and  7  is  12\n",
            "The sum of the squares of  5  and  7  is  74\n"
          ]
        }
      ],
      "source": [
        "def add(X, Y): # A function to add together two inputs\n",
        "  Z = X + Y\n",
        "  return Z\n",
        "\n",
        "x = int(input(\"enter a number: \"))\n",
        "y = int(input(\"enter another number: \"))\n",
        "\n",
        "print(\"The sum of \", x, \" and \", y, \" is \", add(x, y)) # First call to add\n",
        "\n",
        "print(\"The sum of the squares of \", x, \" and \", y, \" is \", add(x*x, y*y)) # Second call"
      ]
    },
    {
      "cell_type": "markdown",
      "metadata": {
        "id": "907lcTXO4qRt"
      },
      "source": [
        "Obviously this example of a function is silly, because add is already defined by the builtin \"+\" operator, but in general we can define functions to encode whatever we want.\n",
        "\n",
        "However, the idea of \"encapsulating\" mini-programs in functions is a core programming idea. It allows us to reuse code, and avoids the sin of copy and pasting the same code multiple places within a program.\n",
        "\n",
        "**Important: The core idea to understand is that when a function is finished executing it \"returns\" to the place where it \n",
        "was called.** Here's an illustration of the execution order of this example:"
      ]
    },
    {
      "cell_type": "markdown",
      "metadata": {
        "id": "JWMuMIep9dD6"
      },
      "source": [
        "<img src=\"https://raw.githubusercontent.com/benedictpaten/intro_python/main/lecture_notebooks/figures/graffles/function%20call.jpg\" width=800 height=400 />\n",
        "\n"
      ]
    },
    {
      "cell_type": "code",
      "execution_count": null,
      "metadata": {
        "colab": {
          "base_uri": "https://localhost:8080/"
        },
        "id": "hdGgtbfcb42a",
        "outputId": "b2448869-ea6c-4b43-bd72-a488dfe94d33"
      },
      "outputs": [
        {
          "name": "stdout",
          "output_type": "stream",
          "text": [
            "The phred score for p=1 is : -0.0\n",
            "The phred score for p=0.1 is : 10.0\n",
            "The phred score for p=0.01 is : 20.0\n"
          ]
        }
      ],
      "source": [
        "# Here's another, more real world example\n",
        "\n",
        "import math\n",
        "\n",
        "def probabilityToPhredScore(prob):\n",
        "  # Calculates the phred score for a given probability, prob\n",
        "  return -10 * math.log10(prob) \n",
        "\n",
        "for p in [ 1, 0.1, 0.01 ]:\n",
        "  phredScore = probabilityToPhredScore(p) # Function call \n",
        "  print(\"The phred score for p=\" + str(p) + \" is : \" + str(phredScore))"
      ]
    },
    {
      "cell_type": "markdown",
      "metadata": {
        "id": "ydVAkD5R-Y26"
      },
      "source": [
        "Let's again consider the order of execution:"
      ]
    },
    {
      "cell_type": "code",
      "execution_count": null,
      "metadata": {
        "id": "JaUNwJpS9UjR"
      },
      "outputs": [],
      "source": [
        "# 1st we import the math module\n",
        "\n",
        "# 2nd we define the probabilityToPhredScore function, at this point\n",
        "# the state of the program knows about the function but it hasn't been used\n",
        "\n",
        "# 3rd we loop through the sequence of powers of 10: 1, 0.1, 0.01\n",
        "\n",
        "# 4th in the loop we call the function to convert p to the phredScore value \n",
        "# at this point execution is jumping into and then back from the function\n",
        "\n",
        "# 5th the code prints to the screen, and we loop again (or finish)\n",
        "\n",
        "import math # 1\n",
        "\n",
        "def probabilityToPhredScore(prob): # 2\n",
        "  # Calculates the phred score for a given probability, prob\n",
        "  return -10 * math.log10(prob) \n",
        "\n",
        "for p in [ 1, 0.1, 0.01 ]: # 3\n",
        "  phredScore = probabilityToPhredScore(p) # 4 \n",
        "  print(\"The phred score for p=\" + str(p) + \" is : \" + str(phredScore)) # 5"
      ]
    },
    {
      "cell_type": "markdown",
      "metadata": {
        "id": "AsEywG519dD7"
      },
      "source": [
        "# Challenge 1"
      ]
    },
    {
      "cell_type": "code",
      "execution_count": 1,
      "metadata": {
        "id": "yD2D_J3-9dD7",
        "outputId": "626e6e70-8b85-4ac6-a517-7e71866fd5e2",
        "colab": {
          "base_uri": "https://localhost:8080/"
        }
      },
      "outputs": [
        {
          "output_type": "execute_result",
          "data": {
            "text/plain": [
              "50"
            ]
          },
          "metadata": {},
          "execution_count": 1
        }
      ],
      "source": [
        "# Write a function \"multiply\" that takes two arguments and returns their product so that the below code works\n",
        "def multiply(arg1, arg2):\n",
        "  result = arg1 * arg2\n",
        "  return result\n",
        "x = 5\n",
        "y = 10\n",
        "\n",
        "multiply(x, y)"
      ]
    },
    {
      "cell_type": "markdown",
      "metadata": {
        "id": "Vyrs7TNsOvzK"
      },
      "source": [
        "  # Return values are optional\n",
        "\n",
        "\n",
        "  \n",
        "  Functions do something. Often the cleanest way to express that result is by returning a value - in this way they can be used in an expression to result in something. We saw this with the trivial \"add()\" example above. \n",
        "\n",
        "  However, functions do not have to return anything, consider this example:\n",
        "  \n"
      ]
    },
    {
      "cell_type": "code",
      "execution_count": null,
      "metadata": {
        "colab": {
          "base_uri": "https://localhost:8080/"
        },
        "id": "JHfKfNJlAXfg",
        "outputId": "4e71ff1c-3f4c-4f0e-a9d0-5c6719c9b28d"
      },
      "outputs": [
        {
          "name": "stdout",
          "output_type": "stream",
          "text": [
            "a\n",
            "list\n",
            "of\n",
            "strings\n"
          ]
        }
      ],
      "source": [
        "def printStrings(strings):\n",
        "  for string in strings:\n",
        "    print(string)\n",
        "\n",
        "printStrings([ \"a\", \"list\", \"of\", \"strings\"])"
      ]
    },
    {
      "cell_type": "markdown",
      "metadata": {
        "id": "EEzCrh0W5_bx"
      },
      "source": [
        "Here printStrings() does not return anything, rather it is used to print its input argument to the screen. This is an example of a \"side effect\" - it is not like a traditional math function, rather we call it because we want the side effect of printing the strings to the screen. \n",
        "\n",
        "It is important to understand that printing to the screen is not the same as returning a value."
      ]
    },
    {
      "cell_type": "markdown",
      "metadata": {
        "id": "QyhLzw5mq_ER"
      },
      "source": [
        "# Docstrings"
      ]
    },
    {
      "cell_type": "markdown",
      "metadata": {
        "id": "g7GWkgwBxw7N"
      },
      "source": [
        "In general, a docstring is any string literal that occurs \n",
        "as the first statement  in a module, function, class, or method definition. "
      ]
    },
    {
      "cell_type": "code",
      "execution_count": null,
      "metadata": {
        "colab": {
          "base_uri": "https://localhost:8080/"
        },
        "id": "eJaBewuFPwMG",
        "outputId": "8dd973f1-e4dd-4179-b3cd-8592e87468d5"
      },
      "outputs": [
        {
          "name": "stdout",
          "output_type": "stream",
          "text": [
            "Help on function printStrings in module __main__:\n",
            "\n",
            "printStrings(strings)\n",
            "    Function that prints the strings in a list of strings\n",
            "    \n",
            "    (this is a docstring)\n",
            "\n"
          ]
        }
      ],
      "source": [
        "# Docstrings are a way to document what a function does - \n",
        "# they are a (generally triple quoted)\n",
        "# string that occurs immediately after the def line.\n",
        "\n",
        "# Adding a docstring to your functions \n",
        "# is a good convention, they are also parsed by documentation building\n",
        "# tools\n",
        "\n",
        "def printStrings(strings):\n",
        "  \"\"\"\n",
        "  Function that prints the strings in a list of strings\n",
        "  \n",
        "  (this is a docstring)\n",
        "  \"\"\"\n",
        "  for string in strings:\n",
        "    print(string)\n",
        "\n",
        "help(printStrings) # Calling \"help\" prints the docstring"
      ]
    },
    {
      "cell_type": "markdown",
      "metadata": {
        "id": "anWr1E1C9dD8"
      },
      "source": [
        "# Challenge 2"
      ]
    },
    {
      "cell_type": "code",
      "execution_count": null,
      "metadata": {
        "id": "mzrMvd7A9dD9",
        "outputId": "7bba74a8-75ca-450a-bd4b-2a54f2b9f7c0"
      },
      "outputs": [
        {
          "name": "stdout",
          "output_type": "stream",
          "text": [
            "Factorial of  0  is:  1\n",
            "Factorial of  1  is:  1\n",
            "Factorial of  2  is:  2\n",
            "Factorial of  3  is:  6\n",
            "Factorial of  4  is:  24\n",
            "Factorial of  5  is:  120\n",
            "Factorial of  6  is:  720\n",
            "Factorial of  7  is:  5040\n",
            "Factorial of  8  is:  40320\n",
            "Factorial of  9  is:  362880\n",
            "Help on function factorial in module __main__:\n",
            "\n",
            "factorial(x)\n",
            "\n"
          ]
        }
      ],
      "source": [
        "# Add a useful docstring to the following function\n",
        "\n",
        "def factorial(x):\n",
        "    i = 1\n",
        "    for y in range(1, x+1):\n",
        "        i *= y\n",
        "    return i\n",
        "\n",
        "for j in range(10):\n",
        "    print(\"Factorial of \", j, \" is: \", factorial(j))\n",
        "    \n",
        "help(factorial)"
      ]
    },
    {
      "cell_type": "markdown",
      "metadata": {
        "id": "nQbZ7QHKkB5G"
      },
      "source": [
        "# Return can be used for control flow\n",
        "\n",
        "Return does not need to be accompanied with a value, it is often just used to halt the execution of a function - it is therefore also a control flow statement"
      ]
    },
    {
      "cell_type": "code",
      "execution_count": null,
      "metadata": {
        "colab": {
          "base_uri": "https://localhost:8080/",
          "height": 52
        },
        "id": "cM8E12b49Bpk",
        "outputId": "6306d41d-5b50-4fef-f0ed-0487c29b305a"
      },
      "outputs": [
        {
          "name": "stdout",
          "output_type": "stream",
          "text": [
            "Warning, the input list of strings is more than 5, exiting function\n"
          ]
        }
      ],
      "source": [
        "def printStrings(strings):\n",
        "  \"\"\"\n",
        "  Function that prints the strings in a list of strings. \n",
        "  \n",
        "  If more than 5 strings, complain and exit.\n",
        "  \n",
        "  (this is a docstring)\n",
        "  \"\"\"\n",
        "  \n",
        "  if len(strings) > 5: # Len is the length of strings \n",
        "    print(\"Warning, the input list of strings is more than 5, exiting function\")\n",
        "    return # In this case no value is returned, return just cases the function to\n",
        "    # exit\n",
        "  \n",
        "  for string in strings:\n",
        "    print(string)\n",
        "\n",
        "  return \n",
        "  # At the end of the function there is an implicit return statement - we \n",
        "  # needn't bother to include it, the function returns to the calling functon\n",
        "  # at the end anyway\n",
        "    \n",
        "printStrings([ \"too \", \"many\", \"strings\", \"to\", \"bother\", \"with\"])\n",
        "\n"
      ]
    },
    {
      "cell_type": "markdown",
      "metadata": {
        "id": "mvAcAc3OlYv8"
      },
      "source": [
        "For a function that returns a value, it is important that all control paths actually return a variable of the expected type:"
      ]
    },
    {
      "cell_type": "code",
      "execution_count": null,
      "metadata": {
        "colab": {
          "base_uri": "https://localhost:8080/",
          "height": 52
        },
        "id": "klRPj8GokJDK",
        "outputId": "35062db1-adfa-4bbd-d4d8-a60f8dacf385"
      },
      "outputs": [
        {
          "name": "stdout",
          "output_type": "stream",
          "text": [
            "I'm here\n"
          ]
        },
        {
          "data": {
            "text/plain": [
              "5"
            ]
          },
          "execution_count": 13,
          "metadata": {
            "tags": []
          },
          "output_type": "execute_result"
        }
      ],
      "source": [
        "# There are two possible flows through this function, both must return a\n",
        "# number\n",
        "\n",
        "def absolute(i):\n",
        "  \"\"\"Returns the absolute value of a number\"\"\"\n",
        "  if i < 0:\n",
        "    print(\"I'm here\")\n",
        "    return -i\n",
        "  \n",
        "  print(\"No, I'm here\")\n",
        "  return i\n",
        "\n",
        "absolute(-5) # Note, abs() is a built in function that does this, I'm just redefining the behavior here"
      ]
    },
    {
      "cell_type": "markdown",
      "metadata": {
        "id": "K1eKNFEu9dD9"
      },
      "source": [
        "# Challenge 3"
      ]
    },
    {
      "cell_type": "code",
      "execution_count": null,
      "metadata": {
        "id": "i5YLMIob9dD-"
      },
      "outputs": [],
      "source": [
        "# Complete the following function by replacing the pass statements\n",
        "\n",
        "def find(l, x):\n",
        "    \"\"\"Finds the index of the first occurrence of x \n",
        "    in the list l otherwise returns -1 if x is not in l\"\"\"\n",
        "    j = 0\n",
        "    for i in l:\n",
        "        if i == x:\n",
        "            pass\n",
        "        j += 1\n",
        "    pass\n",
        "\n",
        "find([2, 3, 5, 4, 5 ], 5) # Should return 2\n",
        "find([2, 3, 5, 4, 5 ], 9) # Should return -1"
      ]
    },
    {
      "cell_type": "markdown",
      "metadata": {
        "id": "uPaf3G1p_Bhg"
      },
      "source": [
        "# None\n",
        "\n",
        "If you define a function that does not return anything then the return value is None"
      ]
    },
    {
      "cell_type": "code",
      "execution_count": null,
      "metadata": {
        "colab": {
          "base_uri": "https://localhost:8080/"
        },
        "id": "oMBiJrg1_GRY",
        "outputId": "a8e1449c-7bf5-4045-e2cc-9353a0ee1fc6",
        "scrolled": true
      },
      "outputs": [
        {
          "name": "stdout",
          "output_type": "stream",
          "text": [
            "a\n",
            "list\n",
            "of\n",
            "strings\n"
          ]
        }
      ],
      "source": [
        "def printStrings(strings):\n",
        "  for string in strings:\n",
        "    print(string)\n",
        "\n",
        "x = printStrings([ \"a\", \"list\", \"of\", \"strings\"])\n",
        "\n",
        "# What is the value of x?"
      ]
    },
    {
      "cell_type": "code",
      "execution_count": null,
      "metadata": {
        "colab": {
          "base_uri": "https://localhost:8080/"
        },
        "id": "TKPzy6y1_3a9",
        "outputId": "46f997b7-d0b1-4bdb-c3a6-fd6440777b2c"
      },
      "outputs": [
        {
          "name": "stdout",
          "output_type": "stream",
          "text": [
            "None\n"
          ]
        }
      ],
      "source": [
        "print(x)"
      ]
    },
    {
      "cell_type": "markdown",
      "metadata": {
        "id": "tlclSkWeAE7H"
      },
      "source": [
        "None is the NULL value, it ensures that all function calls are expressions, even if you don't explicitly return a value. None is like nothing:"
      ]
    },
    {
      "cell_type": "code",
      "execution_count": null,
      "metadata": {
        "colab": {
          "base_uri": "https://localhost:8080/"
        },
        "id": "2b-a8vneAZPu",
        "outputId": "045a1403-b7df-4599-fc8d-bddbf51311b9"
      },
      "outputs": [
        {
          "data": {
            "text/plain": [
              "NoneType"
            ]
          },
          "execution_count": 8,
          "metadata": {
            "tags": []
          },
          "output_type": "execute_result"
        }
      ],
      "source": [
        "type(x)"
      ]
    },
    {
      "cell_type": "code",
      "execution_count": null,
      "metadata": {
        "colab": {
          "base_uri": "https://localhost:8080/"
        },
        "id": "ZayhDMVIAJPt",
        "outputId": "75060951-631b-46e9-e268-59356775508f"
      },
      "outputs": [
        {
          "data": {
            "text/plain": [
              "False"
            ]
          },
          "execution_count": 6,
          "metadata": {
            "tags": []
          },
          "output_type": "execute_result"
        }
      ],
      "source": [
        "# It is not True \n",
        "\n",
        "x == True"
      ]
    },
    {
      "cell_type": "code",
      "execution_count": null,
      "metadata": {
        "colab": {
          "base_uri": "https://localhost:8080/"
        },
        "id": "ht8A7NLUAMh0",
        "outputId": "deba70c1-81e3-4b99-962c-b778429593f7"
      },
      "outputs": [
        {
          "data": {
            "text/plain": [
              "False"
            ]
          },
          "execution_count": 7,
          "metadata": {
            "tags": []
          },
          "output_type": "execute_result"
        }
      ],
      "source": [
        "# And it is not False either, it is just \"None\"\n",
        "x == False"
      ]
    },
    {
      "cell_type": "markdown",
      "metadata": {
        "id": "pj_RWnvmAitH"
      },
      "source": [
        "If you really liked you can explicitly use None:"
      ]
    },
    {
      "cell_type": "code",
      "execution_count": null,
      "metadata": {
        "id": "4z408CB9_8gM"
      },
      "outputs": [],
      "source": [
        "# This is the same as the previous definition, it's just now we explicitly define\n",
        "# the return value, whereas this was implicit previously:\n",
        "\n",
        "def printStrings(strings):\n",
        "  for string in strings:\n",
        "    print(string)\n",
        "  return None"
      ]
    },
    {
      "cell_type": "markdown",
      "metadata": {
        "id": "YWe5_kABBOqp"
      },
      "source": [
        "Similarly if you just specify return without a return value the returned value is None:"
      ]
    },
    {
      "cell_type": "code",
      "execution_count": null,
      "metadata": {
        "id": "SZIJ_UM_BUve"
      },
      "outputs": [],
      "source": [
        "def printStrings(strings):\n",
        "  for string in strings:\n",
        "    print(string)\n",
        "  return # This returns None"
      ]
    },
    {
      "cell_type": "markdown",
      "metadata": {
        "id": "ieafJKqm9dEA"
      },
      "source": [
        "# Challenge 4"
      ]
    },
    {
      "cell_type": "code",
      "execution_count": null,
      "metadata": {
        "id": "eRU44v9n9dEA"
      },
      "outputs": [],
      "source": [
        "# First write a function \"print_ounces\" that takes a weight in grams and prints the weight\n",
        "# in ounces. Note: There are ~28.3495 grams in an ounce. Do not return a value\n",
        "\n",
        "# Secondly, write a function \"convert_grams_to_ounces\" which takes a weight in grams and returns the weight in ounces.\n",
        "# It should not print to the screen"
      ]
    },
    {
      "cell_type": "markdown",
      "metadata": {
        "id": "xY-CQ3FmQbSo"
      },
      "source": [
        "# Return can often sub for break"
      ]
    },
    {
      "cell_type": "code",
      "execution_count": null,
      "metadata": {
        "colab": {
          "base_uri": "https://localhost:8080/"
        },
        "id": "CnBJF4aOuPBF",
        "outputId": "c696b9eb-f757-4de2-dcca-973fe8e512b2"
      },
      "outputs": [
        {
          "name": "stdout",
          "output_type": "stream",
          "text": [
            "10\n",
            "1\n",
            "True\n"
          ]
        }
      ],
      "source": [
        "# Consider this example we saw earlier\n",
        "\n",
        "# Check if element is in a list\n",
        "\n",
        "l = [ 10, 1, 12, 7, 8, 2 ] # The list\n",
        "\n",
        "# Loop through list to see if it contains\n",
        "# a value less than 5\n",
        "seen = False\n",
        "for i in l:\n",
        "  print(i)\n",
        "  if i < 5:\n",
        "    seen = True\n",
        "    break # This causes execution to stop\n",
        "else: # This else is only executed if the \n",
        "  # for exits without traversing a break statement\n",
        "  print(\"I did not find it!\")\n",
        "    \n",
        "print(seen)"
      ]
    },
    {
      "cell_type": "code",
      "execution_count": null,
      "metadata": {
        "colab": {
          "base_uri": "https://localhost:8080/"
        },
        "id": "MCzPIEvGQfmO",
        "outputId": "b26c0a81-a114-4320-ab11-72df9d59ec9e"
      },
      "outputs": [
        {
          "data": {
            "text/plain": [
              "True"
            ]
          },
          "execution_count": 12,
          "metadata": {
            "tags": []
          },
          "output_type": "execute_result"
        }
      ],
      "source": [
        "# We can achieve the same thing with a function:\n",
        "\n",
        "def isInTheList(l, j):\n",
        "  \"\"\"Returns True is j is in l, else False, where l is a list.\"\"\"\n",
        "  for i in l:\n",
        "    if i == j:\n",
        "      return True # This is like the previously seen break statements, \n",
        "    # where now we just return from the function, shortcutting the loop\n",
        "  return False\n",
        "\n",
        "isInTheList([ 1, 5, 7, 3 ], 3)"
      ]
    },
    {
      "cell_type": "markdown",
      "metadata": {
        "id": "WNwWbM6DeG3A"
      },
      "source": [
        "# Functions can call other functions - the stack\n",
        "\n",
        "Functions can be wired to achieve complex control flow\n",
        "\n",
        "The following example shows this, and is useful for understanding control flow between functions. \n",
        "\n"
      ]
    },
    {
      "cell_type": "code",
      "execution_count": null,
      "metadata": {
        "colab": {
          "base_uri": "https://localhost:8080/"
        },
        "id": "7tZm0iV4eTFJ",
        "outputId": "fc685424-c0d3-4127-a651-ca4ed199040d"
      },
      "outputs": [
        {
          "name": "stdout",
          "output_type": "stream",
          "text": [
            "in one\n",
            "in two\n",
            "in three\n",
            "exiting three\n",
            "exiting two\n",
            "exiting one\n"
          ]
        }
      ],
      "source": [
        "# Here are three functions calling each other\n",
        "\n",
        "def one():\n",
        "  print(\"in one\")\n",
        "  two()\n",
        "  print(\"exiting one\")\n",
        "\n",
        "def two():\n",
        "  print(\"in two\")\n",
        "  three()\n",
        "  print(\"exiting two\")\n",
        "\n",
        "def three():\n",
        "  print(\"in three\")\n",
        "  print(\"exiting three\")\n",
        "\n",
        "one()"
      ]
    },
    {
      "cell_type": "markdown",
      "metadata": {
        "id": "U6ClCBtOEtk2"
      },
      "source": [
        "It is useful to understand that Python manages a \"call stack\" in which execution is controlled, with each \n",
        "successive function call being added to the top of the stack, and with each function being \n",
        "\"popped\" (removed) from the top of the stack when it is finished, returning execution to the \n",
        "point at which it was invoked.  \n",
        "\n",
        "<img src=\"https://raw.githubusercontent.com/benedictpaten/intro_python/main/lecture_notebooks/figures/graffles/call%20stack.jpg\" width=1000 height=500 />"
      ]
    },
    {
      "cell_type": "markdown",
      "metadata": {
        "id": "8zEfBmSlGbaf"
      },
      "source": [
        "# Challenge 5"
      ]
    },
    {
      "cell_type": "code",
      "execution_count": null,
      "metadata": {
        "colab": {
          "base_uri": "https://localhost:8080/",
          "height": 69
        },
        "id": "tT3HiYlY-ve-",
        "outputId": "a194f52e-4b3d-4f4f-f4e8-49361c6a4493"
      },
      "outputs": [
        {
          "name": "stdout",
          "output_type": "stream",
          "text": [
            "Please enter an integer: 10\n",
            "Please enter a larger integer: 20\n",
            "The sum of odd integers from:  10  up to:  20  is:  75\n"
          ]
        }
      ],
      "source": [
        "# Complete this simple example by writing \"sum_odd_numbers_in_range\" - it should be familiar\n",
        "# sumOddNumbersInRange calculates the sum of odd numbers, for two input arguments X and Y, from X\n",
        "# (including X) to Y (excluding Y) and returns the result\n",
        "# e.g. if X = 4 and Y = 9 then the result is 5 + 7 = 12\n",
        "\n",
        "x = int(input(\"Please enter an integer: \"))\n",
        "y = int(input(\"Please enter a larger integer: \"))\n",
        "\n",
        "# Function to write\n",
        "\n",
        "print(\"The sum of odd integers from: \", x, \" up to: \", y, \" is: \",\n",
        "      sum_odd_numbers_in_range(x, y))\n"
      ]
    },
    {
      "cell_type": "markdown",
      "metadata": {
        "id": "L8o5zkQjNHMU"
      },
      "source": [
        "# Reading\n",
        "\n",
        "* Open book Chapter 4: http://openbookproject.net/thinkcs/python/english3e/functions.html\n",
        "\n",
        "\n",
        "# Homework\n",
        "\n",
        "* Go to Canvas and complete the lecture quiz, which involves completing each challenge problem\n",
        "* Zybook Reading 6"
      ]
    }
  ],
  "metadata": {
    "celltoolbar": "Slideshow",
    "colab": {
      "collapsed_sections": [
        "V7DbjYGNM1I6"
      ],
      "name": "L06 Functions.ipynb",
      "provenance": []
    },
    "kernelspec": {
      "display_name": "Python 3 (ipykernel)",
      "language": "python",
      "name": "python3"
    },
    "language_info": {
      "codemirror_mode": {
        "name": "ipython",
        "version": 3
      },
      "file_extension": ".py",
      "mimetype": "text/x-python",
      "name": "python",
      "nbconvert_exporter": "python",
      "pygments_lexer": "ipython3",
      "version": "3.9.9"
    }
  },
  "nbformat": 4,
  "nbformat_minor": 0
}